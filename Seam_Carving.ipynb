{
 "cells": [
  {
   "cell_type": "code",
   "execution_count": null,
   "id": "c38b10c6",
   "metadata": {},
   "outputs": [],
   "source": [
    "import sys\n",
    "import numpy as np\n",
    "from imageio import imread, imwrite\n",
    "from tqdm import trange\n",
    "import cv2 "
   ]
  },
  {
   "cell_type": "markdown",
   "id": "4c0a2f76",
   "metadata": {},
   "source": [
    "Compute energy using |∂I/∂x| + |∂I/∂y| without predefined functions"
   ]
  },
  {
   "cell_type": "code",
   "execution_count": null,
   "id": "3944bbf7",
   "metadata": {},
   "outputs": [],
   "source": [
    "def calc_energy(img):\n",
    "    gray = 0.299 * img[:, :, 0] + 0.587 * img[:, :, 1] + 0.114 * img[:, :, 2]\n",
    "    dx = np.zeros_like(gray)\n",
    "    dy = np.zeros_like(gray)\n",
    "\n",
    "    # Compute gradients\n",
    "    dx[:, 1:-1] = gray[:, 2:] - gray[:, :-2]\n",
    "    dy[1:-1, :] = gray[2:, :] - gray[:-2, :]\n",
    "\n",
    "    return np.abs(dx) + np.abs(dy)"
   ]
  },
  {
   "cell_type": "markdown",
   "id": "bfce91c5",
   "metadata": {},
   "source": [
    "Finds the minimum energy seam using dynamic programming"
   ]
  },
  {
   "cell_type": "code",
   "execution_count": null,
   "id": "7818316d",
   "metadata": {},
   "outputs": [],
   "source": [
    "def find_seam(img):\n",
    "    r, c = img.shape[:2]\n",
    "    energy = calc_energy(img)\n",
    "    M = energy.copy()\n",
    "    backtrack = np.zeros_like(M, dtype=np.int32)\n",
    "\n",
    "    for i in range(1, r):\n",
    "        for j in range(c):\n",
    "            left = M[i-1, j-1] if j > 0 else float('inf')\n",
    "            up = M[i-1, j]\n",
    "            right = M[i-1, j+1] if j < c-1 else float('inf')\n",
    "\n",
    "            min_val = min(left, up, right)\n",
    "            M[i, j] += min_val\n",
    "\n",
    "            if min_val == left:\n",
    "                backtrack[i, j] = j-1\n",
    "            elif min_val == up:\n",
    "                backtrack[i, j] = j\n",
    "            else:\n",
    "                backtrack[i, j] = j+1\n",
    "\n",
    "    # Backtrack to find the seam\n",
    "    seam = np.zeros(r, dtype=np.int32)\n",
    "    seam[-1] = np.argmin(M[-1])\n",
    "    for i in range(r-2, -1, -1):\n",
    "        seam[i] = backtrack[i+1, seam[i+1]]\n",
    "\n",
    "    return seam"
   ]
  },
  {
   "cell_type": "code",
   "execution_count": 10,
   "id": "02ad892e",
   "metadata": {},
   "outputs": [
    {
     "name": "stderr",
     "output_type": "stream",
     "text": [
      "C:\\Users\\shahd\\AppData\\Local\\Temp\\ipykernel_12300\\240576568.py:103: DeprecationWarning: Starting with ImageIO v3 the behavior of this function will switch to that of iio.v3.imread. To keep the current behavior (and make this warning disappear) use `import imageio.v2 as imageio` or call `imageio.v2.imread` directly.\n",
      "  img = imread(input_path)\n",
      "100%|████████████████████████████████████████████████████████████████████████████████| 237/237 [01:10<00:00,  3.37it/s]\n",
      "C:\\Users\\shahd\\AppData\\Local\\Temp\\ipykernel_12300\\240576568.py:91: DeprecationWarning: Starting with ImageIO v3 the behavior of this function will switch to that of iio.v3.imread. To keep the current behavior (and make this warning disappear) use `import imageio.v2 as imageio` or call `imageio.v2.imread` directly.\n",
      "  return img, visualize_seams(imread(sys.argv[3]), seams)\n"
     ]
    }
   ],
   "source": [
    "def remove_seam(img, seam):\n",
    "    \"\"\"Removes the given seam from the image.\"\"\"\n",
    "    r, c, _ = img.shape\n",
    "    mask = np.ones((r, c), dtype=np.bool_)\n",
    "    \n",
    "    for i in range(r):\n",
    "        mask[i, seam[i]] = False\n",
    "    \n",
    "    img = img[mask].reshape((r, c-1, 3))\n",
    "    return img\n",
    "\n",
    "def visualize_seams(img, seams):\n",
    "    \"\"\"Visualizes removed seams by drawing them on the original image.\"\"\"\n",
    "    img_vis = img.copy()\n",
    "    for seam in seams:\n",
    "        for i in range(img.shape[0]):\n",
    "            img_vis[i, seam[i]] = [0, 0, 255]  # Mark seam in red\n",
    "    return img_vis\n",
    "\n",
    "def seam_carving(img, scale, mode):\n",
    "    \"\"\"Performs seam carving to resize an image.\"\"\"\n",
    "    r, c, _ = img.shape\n",
    "    target_c = int(scale * c) if mode == 'c' else c\n",
    "    target_r = int(scale * r) if mode == 'r' else r\n",
    "\n",
    "    seams = []\n",
    "    \n",
    "    if mode == 'c':\n",
    "        for _ in trange(c - target_c):\n",
    "            seam = find_seam(img)\n",
    "            seams.append(seam)\n",
    "            img = remove_seam(img, seam)\n",
    "\n",
    "    elif mode == 'r':\n",
    "        img = np.rot90(img, 1, (0, 1))  # Rotate to treat rows as columns\n",
    "        for _ in trange(r - target_r):\n",
    "            seam = find_seam(img)\n",
    "            seams.append(seam)\n",
    "            img = remove_seam(img, seam)\n",
    "        img = np.rot90(img, 3, (0, 1))  # Rotate back\n",
    "\n",
    "    return img, visualize_seams(imread(sys.argv[3]), seams)\n",
    "\n",
    "def main():\n",
    "    if len(sys.argv) != 5:\n",
    "        print('Usage: python carver.py <r/c> <scale> <image_in> <image_out>', file=sys.stderr)\n",
    "        sys.exit(1)\n",
    "\n",
    "    mode = sys.argv[1]\n",
    "    scale = float(sys.argv[2])\n",
    "    input_path = sys.argv[3]\n",
    "    output_path = sys.argv[4]\n",
    "\n",
    "    img = imread(input_path)\n",
    "    resized_img, seam_visualization = seam_carving(img, scale, mode)\n",
    "\n",
    "    imwrite(output_path, resized_img)\n",
    "    imwrite(f\"seams_{output_path}\", seam_visualization)\n",
    "\n",
    "\n",
    "\n",
    "if __name__ == \"__main__\":\n",
    "    main()\n"
   ]
  },
  {
   "cell_type": "code",
   "execution_count": null,
   "id": "40f7616c",
   "metadata": {},
   "outputs": [],
   "source": []
  }
 ],
 "metadata": {
  "kernelspec": {
   "display_name": "Python 3 (ipykernel)",
   "language": "python",
   "name": "python3"
  },
  "language_info": {
   "codemirror_mode": {
    "name": "ipython",
    "version": 3
   },
   "file_extension": ".py",
   "mimetype": "text/x-python",
   "name": "python",
   "nbconvert_exporter": "python",
   "pygments_lexer": "ipython3",
   "version": "3.10.11"
  }
 },
 "nbformat": 4,
 "nbformat_minor": 5
}
